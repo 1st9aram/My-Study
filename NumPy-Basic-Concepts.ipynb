{
 "cells": [
  {
   "cell_type": "code",
   "execution_count": 1,
   "metadata": {},
   "outputs": [],
   "source": [
    "# NumPy 기본 개념 정리\n",
    "# Numerical Python을 의미하는 NumPy는 Python에서 선형대수 기반의\n",
    "# 프로그램을 쉽게 만들 수 있도록 지원하는 패키지임"
   ]
  },
  {
   "cell_type": "code",
   "execution_count": 2,
   "metadata": {},
   "outputs": [],
   "source": [
    "# NumPy 실행하기\n",
    "\n",
    "import numpy as np"
   ]
  },
  {
   "cell_type": "code",
   "execution_count": 3,
   "metadata": {},
   "outputs": [
    {
     "name": "stdout",
     "output_type": "stream",
     "text": [
      "array1 type <class 'numpy.ndarray'>\n",
      "array1 array 형태: (3,)\n",
      "array2 type <class 'numpy.ndarray'>\n",
      "array2 array 형태: (2, 3)\n",
      "array3 type <class 'numpy.ndarray'>\n",
      "array3 array 형태: (1, 3)\n"
     ]
    }
   ],
   "source": [
    "# NumPy의 기반 데이터 타입은 ndarray임\n",
    "# ndarray를 이용해 NumPy에서 다차원 배열(Multi-dimension)을 쉽게 생성 및 다양한 연산 가능\n",
    "# NumPy array() 함수는 Python의 list와 같은 다양한 인자를 입력 받아서 ndarray로 변환함\n",
    "# 생성된 ndarry 배열의 shape 변수는 ndarray의 크기, 즉 행과 열의 수를 tupple 형태로\n",
    "# 가지고 있으며 이를 통해 ndarray 배열의 차원까지 알 수 있음\n",
    "\n",
    "array1 = np.array([1, 3, 5])\n",
    "print('array1 type',type(array1))\n",
    "print('array1 array 형태:', array1.shape)\n",
    "\n",
    "array2 = np.array([[1, 3, 5],\n",
    "                   [2, 4, 6]])\n",
    "print('array2 type',type(array2))\n",
    "print('array2 array 형태:', array2.shape)\n",
    "\n",
    "array3 = np.array([[1, 3, 5]])\n",
    "print('array3 type',type(array3))\n",
    "print('array3 array 형태:', array3.shape)"
   ]
  },
  {
   "cell_type": "code",
   "execution_count": 4,
   "metadata": {},
   "outputs": [
    {
     "name": "stdout",
     "output_type": "stream",
     "text": [
      "array1:1차원, array2:2차원, array3: 2차원\n"
     ]
    }
   ],
   "source": [
    "# ndarray.shape는 ndarray의 차원과 크기를 tupple 형태로 나타냄\n",
    "# array1과 array3의 차이를 이해해야함\n",
    "# array1은 1차원 array로 3개의 데이터를 가지고 있는 것을 뜻함\n",
    "# array3은 2차원 array로 1개 row와 3개 column으로 구성되어 1*3=3개의 데이터를 가지고 있는 것을 뜻함\n",
    "\n",
    "print('array1:{:0}차원, array2:{:1}차원, array3:{:2}차원'.format(array1.ndim, array2.ndim, array3.ndim))"
   ]
  },
  {
   "cell_type": "code",
   "execution_count": 5,
   "metadata": {},
   "outputs": [
    {
     "name": "stdout",
     "output_type": "stream",
     "text": [
      "<class 'list'>\n",
      "<class 'numpy.ndarray'>\n",
      "[1 3 5] int32\n"
     ]
    }
   ],
   "source": [
    "# ndarray 내의 데이터값은 숫자 값, 문자열 값, 불 값 등 모두 가능함\n",
    "# ndarray 내의 데이터 타입은 연산의 특성상 같은 데이터 타입만 가능함\n",
    "# 리스트 자료형인 list1은 integer 숫자인 1,3,5를 값으로 가지고 있고\n",
    "# ndarray로 쉽게 변경할 수 있으며 이렇게 변경된 ndarray 내의 데이터 값은 모두 int32형임 \n",
    "\n",
    "list1 = [1, 3, 5]\n",
    "print(type(list1))\n",
    "\n",
    "array1 = np.array(list1)\n",
    "print(type(array1))\n",
    "print(array1, array1.dtype)"
   ]
  },
  {
   "cell_type": "code",
   "execution_count": 6,
   "metadata": {},
   "outputs": [
    {
     "name": "stdout",
     "output_type": "stream",
     "text": [
      "['1' '2' 'test'] <U11\n",
      "[1. 2. 3.] float64\n"
     ]
    }
   ],
   "source": [
    "# 서로 다른 데이터 타입을 가질 수 있는 리스트와는 다르게 ndarray 내의 데이터 타입은\n",
    "# 연산의 특성상 같은 데이터 타입만 가능함\n",
    "# 다른 데이터 유형이 섞여 있는 리스트를 ndarray로 변경하면 데이터 크기가 더 큰 데이터 타입으로 변환 일괄 적용됨\n",
    "\n",
    "list2 = [1, 2 , 'test']\n",
    "array2 = np.array(list2)\n",
    "print(array2, array2.dtype)\n",
    "\n",
    "list3 = [1, 2, 3.0]\n",
    "array3 = np.array(list3)\n",
    "print(array3, array3.dtype)"
   ]
  },
  {
   "cell_type": "code",
   "execution_count": 7,
   "metadata": {},
   "outputs": [
    {
     "name": "stdout",
     "output_type": "stream",
     "text": [
      "[1. 2. 3.] float64\n",
      "[1 2 3] int32\n",
      "[1 2 3] int32\n"
     ]
    }
   ],
   "source": [
    "# ndarray 내 데이터값의 타입 변경은 astype()을 이용해 할 수 있음\n",
    "# 대용량 데이터의 ndarray를 만들 때 메모리 절약을 해야할 때 보통 이용됨\n",
    "\n",
    "array_int = np.array([1, 2, 3])\n",
    "array_float = array_int.astype('float64')\n",
    "print(array_float, array_float.dtype)\n",
    "\n",
    "array_int1 = array_float.astype('int32')\n",
    "print(array_int1, array_int1.dtype)\n",
    "\n",
    "array_float1 = np.array([1.1, 2.1, 3.1])\n",
    "array_int2 = array_float1.astype('int32')\n",
    "print(array_int2, array_int2.dtype)"
   ]
  },
  {
   "cell_type": "code",
   "execution_count": 8,
   "metadata": {},
   "outputs": [
    {
     "name": "stdout",
     "output_type": "stream",
     "text": [
      "[0 1 2 3 4 5 6 7 8 9]\n",
      "int32 (10,)\n"
     ]
    }
   ],
   "source": [
    "# ndarray 편리하게 생성하기 - 1\n",
    "# arange()는 0부터 함수 인자 값 -1까지의 값으로 순차적 구성된 1차원 ndarray의 데이터값으로 변환해줌\n",
    "# defaulf 함수 인자는 stop 값이고, start 값을 부여해 0이 아닌 값으로 시작하는 연속 값을 부여할 수 있음\n",
    "\n",
    "sequence_array = np.arange(10)\n",
    "print(sequence_array)\n",
    "print(sequence_array.dtype, sequence_array.shape)"
   ]
  },
  {
   "cell_type": "code",
   "execution_count": 9,
   "metadata": {},
   "outputs": [
    {
     "name": "stdout",
     "output_type": "stream",
     "text": [
      "[[0 0]\n",
      " [0 0]\n",
      " [0 0]]\n",
      "int32 (3, 2)\n"
     ]
    }
   ],
   "source": [
    "# ndarray 편리하게 생성하기 - 2\n",
    "# zeros()는 함수 인자로 tupple 형태의 shape 값을 입력하면\n",
    "# 모든 값을 0으로 채운 해당 shape를 가진 ndarray를 반환함\n",
    "# dtype의 default는 float64 형의 데이터임\n",
    "\n",
    "zero_array = np.zeros((3,2), dtype = 'int32')\n",
    "print(zero_array)\n",
    "print(zero_array.dtype, zero_array.shape)"
   ]
  },
  {
   "cell_type": "code",
   "execution_count": 10,
   "metadata": {},
   "outputs": [
    {
     "name": "stdout",
     "output_type": "stream",
     "text": [
      "[[1. 1.]\n",
      " [1. 1.]\n",
      " [1. 1.]]\n",
      "float64 (3, 2)\n"
     ]
    }
   ],
   "source": [
    "# ndarray 편리하게 생성하기 - 3\n",
    "# ones()는 함수 인자로 tupple 형태의 shape 값을 입력하면\n",
    "# 모든 값을 1로 채운 해당 shape를 가진 ndarray를 반환함\n",
    "# dtype의 default는 float64 형의 데이터임\n",
    "\n",
    "one_array = np.ones((3,2))\n",
    "print(one_array)\n",
    "print(one_array.dtype, one_array.shape)"
   ]
  },
  {
   "cell_type": "code",
   "execution_count": 11,
   "metadata": {},
   "outputs": [
    {
     "name": "stdout",
     "output_type": "stream",
     "text": [
      "[[7 7]\n",
      " [7 7]\n",
      " [7 7]]\n",
      "int32 (3, 2)\n"
     ]
    }
   ],
   "source": [
    "# ndarray 편리하게 생성하기 - 4\n",
    "# full()은 함수 인자로 tupple 형태의 shape 값과\n",
    "# 특정 상수를 입력하면 모든 값이 특정 상수로 채운\n",
    "# 해당 shape를 가진 ndarray를 반환함\n",
    "# dtype의 default는 None임(특정 상수의 type에 따라감)\n",
    "\n",
    "full_array = np.full((3,2),7)\n",
    "print(full_array)\n",
    "print(full_array.dtype, full_array.shape)"
   ]
  },
  {
   "cell_type": "code",
   "execution_count": 12,
   "metadata": {},
   "outputs": [
    {
     "name": "stdout",
     "output_type": "stream",
     "text": [
      "[[1. 0. 0.]\n",
      " [0. 1. 0.]\n",
      " [0. 0. 1.]]\n",
      "float64 (3, 3)\n"
     ]
    }
   ],
   "source": [
    "# ndarray 편리하게 생성하기 - 5\n",
    "# eye()는 함수 인자 값 N을 입력하면 NxN 단위행렬을 생성함\n",
    "# dtype의 default는 float64 형의 데이터임\n",
    "\n",
    "eye_array = np.eye(3)\n",
    "print(eye_array)\n",
    "print(eye_array.dtype, eye_array.shape)"
   ]
  },
  {
   "cell_type": "code",
   "execution_count": 13,
   "metadata": {},
   "outputs": [
    {
     "name": "stdout",
     "output_type": "stream",
     "text": [
      "[[0.57811335 0.20613938 0.66034452]\n",
      " [0.58004577 0.4670773  0.65969509]\n",
      " [0.84233073 0.69631623 0.98138744]]\n",
      "float64 (3, 3)\n"
     ]
    }
   ],
   "source": [
    "# ndarray 편리하게 생성하기 - 6\n",
    "# random.random()는 함수 인자로 tupple 형태의 shape 값을 입력하면\n",
    "# 모든 값을 임의의 값으로 채운 해당 shape를 가진 ndarray를 반환함\n",
    "\n",
    "random_array = np.random.random((3,3))\n",
    "print(random_array)\n",
    "print(random_array.dtype, random_array.shape)"
   ]
  },
  {
   "cell_type": "code",
   "execution_count": 14,
   "metadata": {},
   "outputs": [
    {
     "name": "stdout",
     "output_type": "stream",
     "text": [
      "array1:\n",
      " [0 1 2 3 4 5 6 7 8 9]\n",
      "array2:\n",
      " [[0 1 2 3 4]\n",
      " [5 6 7 8 9]]\n",
      "array3:\n",
      " [[0 1]\n",
      " [2 3]\n",
      " [4 5]\n",
      " [6 7]\n",
      " [8 9]]\n"
     ]
    }
   ],
   "source": [
    "# ndarray의 차원과 크기를 변경하는 reshape()\n",
    "# reshape()는 ndarray를 특정 차원 및 크기로 변환함\n",
    "# 변환을 원하는 크기를 함수 인자로 부여하면 됨\n",
    "\n",
    "array1 = np.arange(10)\n",
    "print('array1:\\n', array1)\n",
    "\n",
    "array2 = array1.reshape(2,5)\n",
    "print('array2:\\n', array2)\n",
    "\n",
    "array3 = array1.reshape(5,2)\n",
    "print('array3:\\n', array3)"
   ]
  },
  {
   "cell_type": "code",
   "execution_count": 15,
   "metadata": {},
   "outputs": [
    {
     "name": "stdout",
     "output_type": "stream",
     "text": [
      "[0 1 2 3 4 5 6 7 8 9]\n",
      "array2 shape: (2, 5)\n",
      "array3 shape: (5, 2)\n"
     ]
    }
   ],
   "source": [
    "# reshape()를 더 효율적으로 사용하는 방법\n",
    "# 함수 인자로 -1을 사용하면 원래 ndarray와 호환되는 새로운 shape로 변환함\n",
    "\n",
    "array1 = np.arange(10)\n",
    "print(array1)\n",
    "\n",
    "array2 = array1.reshape(-1,5) # array1과 호환되는 2차원 ndarray로 변환하되, 고정된 5개 column에 맞는 row를 자동으로 생성해 변환함\n",
    "print('array2 shape:', array2.shape)\n",
    "\n",
    "array3 = array1.reshape(5,-1) # array1과 호환되는 2차원 ndarray로 변환하되, 고정된 5개 row에 맞는 column를 자동으로 생성해 변환함\n",
    "print('array3 shape:', array3.shape)"
   ]
  },
  {
   "cell_type": "code",
   "execution_count": 16,
   "metadata": {},
   "outputs": [
    {
     "name": "stdout",
     "output_type": "stream",
     "text": [
      "[[ 1  2  3  4]\n",
      " [ 5  6  7  8]\n",
      " [ 9 10 11 12]]\n",
      "[[2 3]\n",
      " [6 7]]\n",
      "7\n",
      "7\n",
      "[[ 1  2  3  4]\n",
      " [ 5  6 93  8]\n",
      " [ 9 10 11 12]]\n"
     ]
    }
   ],
   "source": [
    "# 배열 인덱싱\n",
    "\n",
    "a = np.arange(1,13).reshape(3,4)\n",
    "print(a)\n",
    "\n",
    "# 슬라이싱을 이용하여 1,2행과 2,3열로 이루어진 부분배열을 만듦\n",
    "# b는 shape가 (2,2)인 배열이 됨\n",
    "\n",
    "b = a[:2, 1:3]\n",
    "print(b)\n",
    "\n",
    "print(a[1,2]) # a[1,2]와 b[1,1]은 같은 같은 데이터임\n",
    "print(b[1,1])\n",
    "\n",
    "# 슬라이싱 된 배열은 원본 배열과 같은 데이터를 참조함\n",
    "# 즉, 슬라이싱 된 배열을 수정하면 원본 배열 역시 수정됨\n",
    "\n",
    "b[1,1] = 93\n",
    "print(a)"
   ]
  },
  {
   "cell_type": "code",
   "execution_count": null,
   "metadata": {},
   "outputs": [],
   "source": []
  }
 ],
 "metadata": {
  "kernelspec": {
   "display_name": "studyram",
   "language": "python",
   "name": "studyram"
  },
  "language_info": {
   "codemirror_mode": {
    "name": "ipython",
    "version": 3
   },
   "file_extension": ".py",
   "mimetype": "text/x-python",
   "name": "python",
   "nbconvert_exporter": "python",
   "pygments_lexer": "ipython3",
   "version": "3.7.4"
  }
 },
 "nbformat": 4,
 "nbformat_minor": 2
}
