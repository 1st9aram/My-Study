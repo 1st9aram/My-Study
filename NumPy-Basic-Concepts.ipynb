{
 "cells": [
  {
   "cell_type": "code",
   "execution_count": 1,
   "metadata": {},
   "outputs": [],
   "source": [
    "# NumPy 기본 개념 정리\n",
    "# Numerical Python을 의미하는 NumPy는 Python에서 선형대수 기반의\n",
    "# 프로그램을 쉽게 만들 수 있도록 지원하는 패키지임"
   ]
  },
  {
   "cell_type": "code",
   "execution_count": 2,
   "metadata": {},
   "outputs": [],
   "source": [
    "# NumPy 실행하기\n",
    "import numpy as np"
   ]
  },
  {
   "cell_type": "code",
   "execution_count": 3,
   "metadata": {},
   "outputs": [
    {
     "name": "stdout",
     "output_type": "stream",
     "text": [
      "array1 type <class 'numpy.ndarray'>\n",
      "array1 array 형태: (3,)\n",
      "array2 type <class 'numpy.ndarray'>\n",
      "array2 array 형태: (2, 3)\n",
      "array3 type <class 'numpy.ndarray'>\n",
      "array3 array 형태: (1, 3)\n"
     ]
    }
   ],
   "source": [
    "# NumPy의 기반 데이터 타입은 ndarray임\n",
    "# ndarray를 이용해 NumPy에서 다차원 배열(Multi-dimension)을 쉽게 생성 및 다양한 연산 가능\n",
    "# NumPy array() 함수는 Python의 list와 같은 다양한 인자를 입력 받아서 ndarray로 변환함\n",
    "# 생성된 ndarry 배열의 shape 변수는 ndarray의 크기, 즉 행과 열의 수를 tupple 형태로\n",
    "# 가지고 있으며 이를 통해 ndarray 배열의 차원까지 알 수 있음\n",
    "array1 = np.array([1, 3, 5])\n",
    "print('array1 type',type(array1))\n",
    "print('array1 array 형태:', array1.shape)\n",
    "\n",
    "array2 = np.array([[1, 3, 5],\n",
    "                   [2, 4, 6]])\n",
    "print('array2 type',type(array2))\n",
    "print('array2 array 형태:', array2.shape)\n",
    "\n",
    "array3 = np.array([[1, 3, 5]])\n",
    "print('array3 type',type(array3))\n",
    "print('array3 array 형태:', array3.shape)"
   ]
  }
 ],
 "metadata": {
  "kernelspec": {
   "display_name": "studyram",
   "language": "python",
   "name": "studyram"
  },
  "language_info": {
   "codemirror_mode": {
    "name": "ipython",
    "version": 3
   },
   "file_extension": ".py",
   "mimetype": "text/x-python",
   "name": "python",
   "nbconvert_exporter": "python",
   "pygments_lexer": "ipython3",
   "version": "3.7.4"
  }
 },
 "nbformat": 4,
 "nbformat_minor": 2
}
